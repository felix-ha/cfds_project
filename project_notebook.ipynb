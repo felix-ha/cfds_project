{
 "cells": [
  {
   "cell_type": "markdown",
   "metadata": {},
   "source": [
    "# Macroeconomic forecasting: Can machine learning methods outperform traditional approaches?"
   ]
  },
  {
   "cell_type": "markdown",
   "metadata": {},
   "source": [
    "## 0. Setup of the notebook\n",
    "\n",
    "The code for the project is too complex to write it solely in this notebook. Here I want to present the results together with the code that produced it. For that reason I use the magic IPython command `%run` to load the modules I wrote myself. Together with the python package `inspect` I can display the source code of the functions I use.  \n",
    "\n",
    "### Loading packages and modules"
   ]
  },
  {
   "cell_type": "code",
   "execution_count": 1,
   "metadata": {},
   "outputs": [],
   "source": [
    "import numpy as np\n",
    "import pandas as pd\n",
    "\n",
    "# for printing the definition of custom functions\n",
    "import inspect "
   ]
  },
  {
   "cell_type": "markdown",
   "metadata": {},
   "source": [
    "### Loading custom modules"
   ]
  },
  {
   "cell_type": "code",
   "execution_count": 2,
   "metadata": {},
   "outputs": [],
   "source": [
    "# custom module for data handling\n",
    "%run data_handling"
   ]
  },
  {
   "cell_type": "markdown",
   "metadata": {},
   "source": [
    "# 1. Data"
   ]
  },
  {
   "cell_type": "markdown",
   "metadata": {},
   "source": [
    "## 1.1 Real gross domestic product \n",
    "\n",
    "The gross domestic product (GDP) is the variable of interest.\n",
    "\n",
    "Source of the data public availabe on the website of the IMF [here](https://www.imf.org/en/Publications/WEO/weo-database/2020/October/download-entire-database) and provided via an Excel file called `WEOApr2020all.xls`."
   ]
  },
  {
   "cell_type": "code",
   "execution_count": 3,
   "metadata": {},
   "outputs": [],
   "source": [
    "file = r\"C:\\Users\\hauer\\Dropbox\\CFDS\\Project\\data\\WEOApr2020all.csv\"\n",
    "df_weo_real_gdp = pd.read_csv(file)"
   ]
  },
  {
   "cell_type": "markdown",
   "metadata": {},
   "source": [
    "There are several types of data in this file. This is the description of the relevant subject, the growth of the GDP:"
   ]
  },
  {
   "cell_type": "code",
   "execution_count": 4,
   "metadata": {},
   "outputs": [
    {
     "data": {
      "text/plain": [
       "array(['Annual percentages of constant price GDP are year-on-year changes; the base year is country-specific . Expenditure-based GDP is total final expenditures at purchasers? prices (including the f.o.b. value of exports of goods and services), less the f.o.b. value of imports of goods and services. [SNA 1993]'],\n",
       "      dtype=object)"
      ]
     },
     "execution_count": 4,
     "metadata": {},
     "output_type": "execute_result"
    }
   ],
   "source": [
    "idx = df_weo_real_gdp['Subject Descriptor'] == 'Gross domestic product, constant prices'\n",
    "df_weo_real_gdp['Subject Notes'] \n",
    "\n",
    "df_weo_real_gdp.loc[idx, 'Subject Notes'].unique()"
   ]
  },
  {
   "cell_type": "code",
   "execution_count": 5,
   "metadata": {},
   "outputs": [
    {
     "data": {
      "text/plain": [
       "array(['Percent change'], dtype=object)"
      ]
     },
     "execution_count": 5,
     "metadata": {},
     "output_type": "execute_result"
    }
   ],
   "source": [
    "df_weo_real_gdp.loc[idx, 'Units'].unique()"
   ]
  },
  {
   "cell_type": "markdown",
   "metadata": {},
   "source": [
    "The subject code given by the IMF is 'NGDP_RPCH'. This code will also occour in for the weo prediction data. "
   ]
  },
  {
   "cell_type": "code",
   "execution_count": 6,
   "metadata": {},
   "outputs": [
    {
     "data": {
      "text/plain": [
       "array(['NGDP_RPCH'], dtype=object)"
      ]
     },
     "execution_count": 6,
     "metadata": {},
     "output_type": "execute_result"
    }
   ],
   "source": [
    "df_weo_real_gdp.loc[idx, 'WEO Subject Code'].unique()"
   ]
  },
  {
   "cell_type": "markdown",
   "metadata": {},
   "source": [
    "As the data for the years are present in the columns of the dataframe, i exctract the relevant information and transpose it afterwars. I want the years as the rows and the variables as the columns. "
   ]
  },
  {
   "cell_type": "code",
   "execution_count": 7,
   "metadata": {},
   "outputs": [
    {
     "data": {
      "text/plain": [
       "Index(['WEO Country Code', 'ISO', 'WEO Subject Code', 'Country',\n",
       "       'Subject Descriptor', 'Subject Notes', 'Units', 'Scale',\n",
       "       'Country/Series-specific Notes', '1980', '1981', '1982', '1983', '1984',\n",
       "       '1985', '1986', '1987', '1988', '1989', '1990', '1991', '1992', '1993',\n",
       "       '1994', '1995', '1996', '1997', '1998', '1999', '2000', '2001', '2002',\n",
       "       '2003', '2004', '2005', '2006', '2007', '2008', '2009', '2010', '2011',\n",
       "       '2012', '2013', '2014', '2015', '2016', '2017', '2018', '2019', '2020',\n",
       "       '2021', 'Estimates Start After'],\n",
       "      dtype='object')"
      ]
     },
     "execution_count": 7,
     "metadata": {},
     "output_type": "execute_result"
    }
   ],
   "source": [
    "df_weo_real_gdp.columns"
   ]
  },
  {
   "cell_type": "markdown",
   "metadata": {},
   "source": [
    "This is done with the function: "
   ]
  },
  {
   "cell_type": "code",
   "execution_count": 8,
   "metadata": {
    "scrolled": false
   },
   "outputs": [
    {
     "name": "stdout",
     "output_type": "stream",
     "text": [
      "def get_imf_woe_data(df_weo_real_gdp, country, remove_na=False):\n",
      "\n",
      "    df = df_weo_real_gdp[df_weo_real_gdp['Country'] == country]\n",
      "    \n",
      "    result = pd.DataFrame()\n",
      "    \n",
      "    available_variables = df['Subject Descriptor'].unique()\n",
      "    \n",
      "    for variable in available_variables:\n",
      "        df_curr = df[df['Subject Descriptor'] == variable]\n",
      "        df_curr = df_curr.iloc[:, 9:49]\n",
      "        df_curr = df_curr.transpose()\n",
      "        df_curr = df_curr.rename({df_curr.columns[0]: variable}, axis='columns')\n",
      "        result = pd.concat([result, df_curr], axis=1)\n",
      "        \n",
      "        \n",
      "    if remove_na:\n",
      "        result = result.dropna(axis=1) \n",
      "        \n",
      "    return result\n",
      "\n"
     ]
    }
   ],
   "source": [
    "print(inspect.getsource(get_imf_woe_data))"
   ]
  },
  {
   "cell_type": "markdown",
   "metadata": {},
   "source": [
    "To extract the GDP data i use this function: "
   ]
  },
  {
   "cell_type": "code",
   "execution_count": 9,
   "metadata": {},
   "outputs": [
    {
     "name": "stdout",
     "output_type": "stream",
     "text": [
      "def get_gdp_real(df_weo_real_gdp, country):\n",
      "    df = get_imf_woe_data(df_weo_real_gdp, country, remove_na=False)\n",
      "    df.index = df.index.astype(dtype='int64')   \n",
      "    df['Y'] = df['Gross domestic product, constant prices']  \n",
      "    df['Y'] = df['Y'].str.replace(',', '').astype('float')\n",
      "    return df['Y']\n",
      "\n"
     ]
    }
   ],
   "source": [
    "print(inspect.getsource(get_gdp_real))"
   ]
  },
  {
   "cell_type": "markdown",
   "metadata": {},
   "source": [
    "Here is for example the real GDP growth for germany:"
   ]
  },
  {
   "cell_type": "code",
   "execution_count": 10,
   "metadata": {},
   "outputs": [
    {
     "data": {
      "text/plain": [
       "1980    1.272\n",
       "1981    0.110\n",
       "1982   -0.788\n",
       "1983    1.555\n",
       "1984    2.826\n",
       "1985    2.192\n",
       "1986    2.417\n",
       "1987    1.469\n",
       "1988    3.736\n",
       "1989    3.913\n",
       "1990    5.723\n",
       "1991    5.011\n",
       "1992    1.925\n",
       "1993   -0.976\n",
       "1994    2.395\n",
       "1995    1.541\n",
       "1996    0.814\n",
       "1997    1.790\n",
       "1998    2.019\n",
       "1999    1.885\n",
       "2000    2.905\n",
       "2001    1.689\n",
       "2002   -0.201\n",
       "2003   -0.708\n",
       "2004    1.186\n",
       "2005    0.728\n",
       "2006    3.815\n",
       "2007    2.975\n",
       "2008    0.965\n",
       "2009   -5.694\n",
       "2010    4.185\n",
       "2011    3.913\n",
       "2012    0.428\n",
       "2013    0.431\n",
       "2014    2.218\n",
       "2015    1.742\n",
       "2016    2.230\n",
       "2017    2.465\n",
       "2018    1.522\n",
       "2019    0.565\n",
       "Name: Y, dtype: float64"
      ]
     },
     "execution_count": 10,
     "metadata": {},
     "output_type": "execute_result"
    }
   ],
   "source": [
    "get_gdp_real(df_weo_real_gdp, 'Germany')"
   ]
  },
  {
   "cell_type": "markdown",
   "metadata": {},
   "source": [
    "The real GDP is availabe for the following 194 (one occurrence is Nan) countries: "
   ]
  },
  {
   "cell_type": "code",
   "execution_count": 11,
   "metadata": {},
   "outputs": [
    {
     "data": {
      "text/plain": [
       "195"
      ]
     },
     "execution_count": 11,
     "metadata": {},
     "output_type": "execute_result"
    }
   ],
   "source": [
    "len(df_weo_real_gdp['Country'].unique())"
   ]
  },
  {
   "cell_type": "code",
   "execution_count": 12,
   "metadata": {},
   "outputs": [
    {
     "data": {
      "text/plain": [
       "array(['Afghanistan', 'Albania', 'Algeria', 'Angola',\n",
       "       'Antigua and Barbuda', 'Argentina', 'Armenia', 'Aruba',\n",
       "       'Australia', 'Austria', 'Azerbaijan', 'The Bahamas', 'Bahrain',\n",
       "       'Bangladesh', 'Barbados', 'Belarus', 'Belgium', 'Belize', 'Benin',\n",
       "       'Bhutan', 'Bolivia', 'Bosnia and Herzegovina', 'Botswana',\n",
       "       'Brazil', 'Brunei Darussalam', 'Bulgaria', 'Burkina Faso',\n",
       "       'Burundi', 'Cabo Verde', 'Cambodia', 'Cameroon', 'Canada',\n",
       "       'Central African Republic', 'Chad', 'Chile', 'China', 'Colombia',\n",
       "       'Comoros', 'Democratic Republic of the Congo', 'Republic of Congo',\n",
       "       'Costa Rica', \"Côte d'Ivoire\", 'Croatia', 'Cyprus',\n",
       "       'Czech Republic', 'Denmark', 'Djibouti', 'Dominica',\n",
       "       'Dominican Republic', 'Ecuador', 'Egypt', 'El Salvador',\n",
       "       'Equatorial Guinea', 'Eritrea', 'Estonia', 'Eswatini', 'Ethiopia',\n",
       "       'Fiji', 'Finland', 'France', 'Gabon', 'The Gambia', 'Georgia',\n",
       "       'Germany', 'Ghana', 'Greece', 'Grenada', 'Guatemala', 'Guinea',\n",
       "       'Guinea-Bissau', 'Guyana', 'Haiti', 'Honduras', 'Hong Kong SAR',\n",
       "       'Hungary', 'Iceland', 'India', 'Indonesia',\n",
       "       'Islamic Republic of Iran', 'Iraq', 'Ireland', 'Israel', 'Italy',\n",
       "       'Jamaica', 'Japan', 'Jordan', 'Kazakhstan', 'Kenya', 'Kiribati',\n",
       "       'Korea', 'Kosovo', 'Kuwait', 'Kyrgyz Republic', 'Lao P.D.R.',\n",
       "       'Latvia', 'Lebanon', 'Lesotho', 'Liberia', 'Libya', 'Lithuania',\n",
       "       'Luxembourg', 'Macao SAR', 'Madagascar', 'Malawi', 'Malaysia',\n",
       "       'Maldives', 'Mali', 'Malta', 'Marshall Islands', 'Mauritania',\n",
       "       'Mauritius', 'Mexico', 'Micronesia', 'Moldova', 'Mongolia',\n",
       "       'Montenegro', 'Morocco', 'Mozambique', 'Myanmar', 'Namibia',\n",
       "       'Nauru', 'Nepal', 'Netherlands', 'New Zealand', 'Nicaragua',\n",
       "       'Niger', 'Nigeria', 'North Macedonia', 'Norway', 'Oman',\n",
       "       'Pakistan', 'Palau', 'Panama', 'Papua New Guinea', 'Paraguay',\n",
       "       'Peru', 'Philippines', 'Poland', 'Portugal', 'Puerto Rico',\n",
       "       'Qatar', 'Romania', 'Russia', 'Rwanda', 'Samoa', 'San Marino',\n",
       "       'São Tomé and Príncipe', 'Saudi Arabia', 'Senegal', 'Serbia',\n",
       "       'Seychelles', 'Sierra Leone', 'Singapore', 'Slovak Republic',\n",
       "       'Slovenia', 'Solomon Islands', 'Somalia', 'South Africa',\n",
       "       'South Sudan', 'Spain', 'Sri Lanka', 'St. Kitts and Nevis',\n",
       "       'St. Lucia', 'St. Vincent and the Grenadines', 'Sudan', 'Suriname',\n",
       "       'Sweden', 'Switzerland', 'Syria', 'Taiwan Province of China',\n",
       "       'Tajikistan', 'Tanzania', 'Thailand', 'Timor-Leste', 'Togo',\n",
       "       'Tonga', 'Trinidad and Tobago', 'Tunisia', 'Turkey',\n",
       "       'Turkmenistan', 'Tuvalu', 'Uganda', 'Ukraine',\n",
       "       'United Arab Emirates', 'United Kingdom', 'United States',\n",
       "       'Uruguay', 'Uzbekistan', 'Vanuatu', 'Venezuela', 'Vietnam',\n",
       "       'Yemen', 'Zambia', 'Zimbabwe', nan], dtype=object)"
      ]
     },
     "execution_count": 12,
     "metadata": {},
     "output_type": "execute_result"
    }
   ],
   "source": [
    "df_weo_real_gdp['Country'].unique()"
   ]
  },
  {
   "cell_type": "markdown",
   "metadata": {},
   "source": [
    "# 4. Models"
   ]
  },
  {
   "cell_type": "markdown",
   "metadata": {},
   "source": [
    "## 4.1  World Economic Outlook \n",
    "\n",
    "\n",
    "The International Monetary Fund publishes predictions of the GDP growth in its World Economic Outlook. The data can is taken from [here](https://www.imf.org/en/Publications/WEO/weo-database/2020/October) in the related links Historical WEO Forecasts Database. The data is provided in an Excel file called `WEOhistorical.xlsx`. The IMF publishes the WEO twice a year in spring and in fall. I will use the prediction of the fall, as this closer to the next year and therefore the prediction should be more precise. The data is formated the following: \n",
    "\n",
    "| country | year   |F1990ngdp_rpch|\n",
    "|------|--------|--------------|\n",
    "|   germany  | 1988  | 4.08 |\n",
    "|   germany  | 1989  | 2.96 |\n",
    "|   germany  | 1990  | 1.98 |\n",
    "|   germany  | 1991  | 2.44 |\n",
    "|   germany  | 1992  | 3.42 |\n",
    "|   germany  | 1993  | 3.45 |\n",
    "|   germany  | 1994  | 3.42 |\n",
    "|   germany  | 1995  | 3.40 |\n",
    "\n",
    "This is for example the WEO in fall of 1990 for germany. There are two years of historical data and 6 years of forecast data. The forecast can be found in the column `F1990ngdp_rpch`. This is the same subject code as for the realised GDP. I will only use the forecast for the next year, so for 1990 if will use the predicted growth of the GDP in 1991. I extract the forecast for a certain country and prediciton horizon with the following function. First I load the Excel file into an pandas dataframe:"
   ]
  },
  {
   "cell_type": "code",
   "execution_count": 13,
   "metadata": {},
   "outputs": [],
   "source": [
    "path = r'C:\\Users\\hauer\\Dropbox\\CFDS\\Project\\data\\WEOhistorical.xlsx'\n",
    "df_weo =  pd.read_excel(path,sheet_name='ngdp_rpch')"
   ]
  },
  {
   "cell_type": "markdown",
   "metadata": {},
   "source": [
    "The function for the extraction of the WEO is called `get_predictions_weo`:"
   ]
  },
  {
   "cell_type": "code",
   "execution_count": 14,
   "metadata": {},
   "outputs": [
    {
     "name": "stdout",
     "output_type": "stream",
     "text": [
      "def get_predictions_weo(df_weo, country, start_forecast, end_forecast):\n",
      "       \n",
      "    df = df_weo[df_weo['country'] == country]\n",
      "    \n",
      "    \n",
      "    for col in df.columns:\n",
      "        if 'S' in col:\n",
      "            del df[col] \n",
      "            \n",
      "    del df['WEO_Country_Code']     \n",
      "    \n",
      "    \n",
      "    df = df[df['year'] >= start_forecast]\n",
      "    \n",
      "    \n",
      "    predictions_weo = []\n",
      "    years = np.arange(start_forecast, end_forecast+1, 1)\n",
      "    \n",
      "    for year in years:\n",
      "       \n",
      "        df_curr = df[df['year'] == year]\n",
      "        \n",
      "        year_WEO = year - 1 \n",
      "        column = 'F' + str(year_WEO) + 'ngdp_rpch'\n",
      "        y_pred_year = df_curr[column].values[0]\n",
      "        \n",
      "        predictions_weo.append(y_pred_year)\n",
      "    \n",
      "    predictions_weo = pd.Series(data = predictions_weo, index = years)\n",
      "    \n",
      "    return predictions_weo\n",
      "\n"
     ]
    }
   ],
   "source": [
    "print(inspect.getsource(get_predictions_weo))"
   ]
  },
  {
   "cell_type": "markdown",
   "metadata": {},
   "source": [
    "Here is for example the WEO for germany for the years 2010 to 2018:\n"
   ]
  },
  {
   "cell_type": "code",
   "execution_count": 15,
   "metadata": {},
   "outputs": [
    {
     "data": {
      "text/plain": [
       "2010    0.335834\n",
       "2011    2.021567\n",
       "2012    1.273123\n",
       "2013    0.852179\n",
       "2014    1.399657\n",
       "2015    1.451330\n",
       "2016    1.573023\n",
       "2017    1.425094\n",
       "2018    1.843451\n",
       "dtype: float64"
      ]
     },
     "execution_count": 15,
     "metadata": {},
     "output_type": "execute_result"
    }
   ],
   "source": [
    "get_predictions_weo(df_weo, country = 'Germany', start_forecast =  2010, end_forecast = 2018)"
   ]
  },
  {
   "cell_type": "markdown",
   "metadata": {},
   "source": [
    "The WEO is available from 1980 for the following countries:"
   ]
  },
  {
   "cell_type": "code",
   "execution_count": 16,
   "metadata": {},
   "outputs": [
    {
     "data": {
      "text/plain": [
       "199"
      ]
     },
     "execution_count": 16,
     "metadata": {},
     "output_type": "execute_result"
    }
   ],
   "source": [
    "len(df_weo['country'].unique())"
   ]
  },
  {
   "cell_type": "code",
   "execution_count": 17,
   "metadata": {},
   "outputs": [
    {
     "data": {
      "text/plain": [
       "array(['World', 'Advanced Economies', 'United States', 'United Kingdom',\n",
       "       'Austria', 'Belgium', 'Denmark', 'France', 'Germany', 'San Marino',\n",
       "       'Italy', 'Luxembourg', 'Netherlands', 'Norway', 'Sweden',\n",
       "       'Switzerland', 'Canada', 'Japan', 'Euro area', 'Finland', 'Greece',\n",
       "       'Iceland', 'Ireland', 'Malta', 'Portugal', 'Spain', 'Turkey',\n",
       "       'Australia', 'New Zealand', 'South Africa',\n",
       "       'Emerging Market and Developing Economies', 'Argentina', 'Bolivia',\n",
       "       'Brazil', 'Chile', 'Colombia', 'Costa Rica', 'Dominican Republic',\n",
       "       'Ecuador', 'El Salvador', 'Guatemala', 'Haiti', 'Honduras',\n",
       "       'Mexico', 'Nicaragua', 'Panama', 'Paraguay', 'Peru', 'Uruguay',\n",
       "       'Venezuela', 'Antigua and Barbuda', 'Bahamas, The', 'Aruba',\n",
       "       'Barbados', 'Dominica', 'Grenada', 'Guyana', 'Belize', 'Jamaica',\n",
       "       'Puerto Rico', 'St. Kitts and Nevis', 'St. Lucia',\n",
       "       'St. Vincent and the Grenadines', 'Suriname',\n",
       "       'Trinidad and Tobago', 'Bahrain', 'Cyprus', 'Iran', 'Iraq',\n",
       "       'Israel', 'Jordan', 'Kuwait', 'Lebanon', 'Oman', 'Qatar',\n",
       "       'Saudi Arabia', 'Syria', 'United Arab Emirates', 'Egypt', 'Yemen',\n",
       "       'West Bank and Gaza', 'Afghanistan', 'Bangladesh', 'Bhutan',\n",
       "       'Brunei Darussalam', 'Myanmar', 'Cambodia', 'Sri Lanka',\n",
       "       'Taiwan Province of China', 'Hong Kong SAR', 'India', 'Indonesia',\n",
       "       'Timor-Leste', 'Korea', 'Lao P.D.R.', 'Macao SAR', 'Malaysia',\n",
       "       'Maldives', 'Nepal', 'Pakistan', 'Palau', 'Philippines',\n",
       "       'Singapore', 'Thailand', 'Vietnam', 'Djibouti', 'Algeria',\n",
       "       'Angola', 'Botswana', 'Burundi', 'Cameroon', 'Cabo Verde',\n",
       "       'Central African Republic', 'Chad', 'Comoros',\n",
       "       'Congo, Republic of', 'Congo, Democratic Republic of the', 'Benin',\n",
       "       'Equatorial Guinea', 'Eritrea', 'Ethiopia', 'Gabon', 'Gambia, The',\n",
       "       'Ghana', 'Guinea-Bissau', 'Guinea', \"Côte d'Ivoire\", 'Kenya',\n",
       "       'Lesotho', 'Liberia', 'Libya', 'Madagascar', 'Malawi', 'Mali',\n",
       "       'Mauritania', 'Mauritius', 'Morocco', 'Mozambique', 'Niger',\n",
       "       'Nigeria', 'Zimbabwe', 'Rwanda', 'São Tomé and Príncipe',\n",
       "       'Seychelles', 'Senegal', 'Sierra Leone', 'Somalia', 'Namibia',\n",
       "       'Sudan', 'South Sudan', 'Eswatini', 'Tanzania', 'Togo', 'Tunisia',\n",
       "       'Uganda', 'Burkina Faso', 'Zambia', 'Solomon Islands', 'Fiji',\n",
       "       'Kiribati', 'Nauru', 'Vanuatu', 'Papua New Guinea', 'Samoa',\n",
       "       'Tonga', 'Marshall Islands', 'Micronesia', 'Tuvalu', 'Armenia',\n",
       "       'Azerbaijan', 'Belarus', 'Albania', 'Georgia', 'Kazakhstan',\n",
       "       'Kyrgyz Republic', 'Bulgaria', 'Moldova', 'Russia', 'Tajikistan',\n",
       "       'China', 'Turkmenistan', 'Ukraine', 'Uzbekistan', 'Czech Republic',\n",
       "       'Slovak Republic', 'Estonia', 'Latvia', 'Serbia',\n",
       "       'Montenegro, Rep. of', 'Hungary', 'Lithuania', 'Mongolia',\n",
       "       'Croatia', 'Slovenia', 'North Macedonia', 'Bosnia and Herzegovina',\n",
       "       'Poland', 'Kosovo', 'Romania'], dtype=object)"
      ]
     },
     "execution_count": 17,
     "metadata": {},
     "output_type": "execute_result"
    }
   ],
   "source": [
    "df_weo['country'].unique()"
   ]
  }
 ],
 "metadata": {
  "kernelspec": {
   "display_name": "Python 3",
   "language": "python",
   "name": "python3"
  },
  "language_info": {
   "codemirror_mode": {
    "name": "ipython",
    "version": 3
   },
   "file_extension": ".py",
   "mimetype": "text/x-python",
   "name": "python",
   "nbconvert_exporter": "python",
   "pygments_lexer": "ipython3",
   "version": "3.7.7"
  }
 },
 "nbformat": 4,
 "nbformat_minor": 4
}
