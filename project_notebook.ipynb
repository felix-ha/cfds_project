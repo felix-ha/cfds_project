{
 "cells": [
  {
   "cell_type": "markdown",
   "metadata": {},
   "source": [
    "# Macroeconomic forecasting: Can machine learning methods outperform traditional approaches?"
   ]
  },
  {
   "cell_type": "markdown",
   "metadata": {},
   "source": [
    "## 0. Setup of the notebook\n",
    "\n",
    "The code for the project is too complex to write it solely in this notebook. Here I want to present the results together with the code that produced it. For that reason I use the magic IPython command `%run` to load the modules I wrote myself. Together with the python package `inspect` I can display the source code of the functions I use.  \n",
    "\n",
    "### Loading packages and modules"
   ]
  },
  {
   "cell_type": "code",
   "execution_count": 1,
   "metadata": {},
   "outputs": [],
   "source": [
    "import numpy as np\n",
    "import pandas as pd\n",
    "\n",
    "# for printing the definition of custom functions\n",
    "import inspect "
   ]
  },
  {
   "cell_type": "markdown",
   "metadata": {},
   "source": [
    "### Loading custom modules"
   ]
  },
  {
   "cell_type": "code",
   "execution_count": 2,
   "metadata": {},
   "outputs": [],
   "source": [
    "# custom module for data handling\n",
    "%run data_handling"
   ]
  },
  {
   "cell_type": "markdown",
   "metadata": {},
   "source": [
    "# 1. Data"
   ]
  },
  {
   "cell_type": "markdown",
   "metadata": {},
   "source": [
    "## 1.1 Real gross domestic product \n",
    "\n",
    "The gross domestic product (GDP) The variable of interest.\n",
    "\n",
    "Source of the data public availabe on the website of the IMF [here](https://www.imf.org/en/Publications/WEO/weo-database/2020/October/download-entire-database) and provided via an Excel file called `WEOOct2020all.xls`.\n"
   ]
  },
  {
   "cell_type": "markdown",
   "metadata": {},
   "source": [
    "## 1.2  World Economic Outlook \n",
    "\n",
    "\n",
    "The International Monetary Fund publishes predictions of the GDP growth in its World Economic Outlook. The data can is taken from [here](https://www.imf.org/en/Publications/WEO/weo-database/2020/October) in the related links Historical WEO Forecasts Database. The data is provided in an Excel file called `WEOhistorical.xlsx`. The IMF publishes the WEO twice a year in spring and in fall. I will use the prediction of the fall, as this closer to the next year and therefore the prediction should be more precise. The data is formated the following: \n",
    "\n",
    "| country | year   |F1990ngdp_rpch|\n",
    "|------|--------|--------------|\n",
    "|   germany  | 1988  | 4.08 |\n",
    "|   germany  | 1989  | 2.96 |\n",
    "|   germany  | 1990  | 1.98 |\n",
    "|   germany  | 1991  | 2.44 |\n",
    "|   germany  | 1992  | 3.42 |\n",
    "|   germany  | 1993  | 3.45 |\n",
    "|   germany  | 1994  | 3.42 |\n",
    "|   germany  | 1995  | 3.40 |\n",
    "\n",
    "This is for example the WEO in fall of 1990 for germany. There are two years of historical data and 6 years of forecast data. The forecast can be found in the column `F1990ngdp_rpch`. I will only use the forecast for the next year, so for 1990 if will use the predicted growth of the GDP in 1991. I extract the forecast for a certain country and prediciton horizon with the following function. First I load the Excel file into an pandas dataframe:"
   ]
  },
  {
   "cell_type": "code",
   "execution_count": 3,
   "metadata": {},
   "outputs": [],
   "source": [
    "path = r'C:\\Users\\hauer\\Dropbox\\CFDS\\Project\\data\\WEOhistorical.xlsx'\n",
    "df_weo =  pd.read_excel(path,sheet_name='ngdp_rpch')"
   ]
  },
  {
   "cell_type": "markdown",
   "metadata": {},
   "source": [
    "The function for the extraction of the WEO is called `get_predictions_weo`:"
   ]
  },
  {
   "cell_type": "code",
   "execution_count": 4,
   "metadata": {},
   "outputs": [
    {
     "name": "stdout",
     "output_type": "stream",
     "text": [
      "def get_predictions_weo(df_weo, country, start_forecast, end_forecast):\n",
      "       \n",
      "    df = df_weo[df_weo['country'] == country]\n",
      "    \n",
      "    \n",
      "    for col in df.columns:\n",
      "        if 'S' in col:\n",
      "            del df[col] \n",
      "            \n",
      "    del df['WEO_Country_Code']     \n",
      "    \n",
      "    \n",
      "    df = df[df['year'] >= start_forecast]\n",
      "    \n",
      "    \n",
      "    predictions_weo = []\n",
      "    years = np.arange(start_forecast, end_forecast+1, 1)\n",
      "    \n",
      "    for year in years:\n",
      "       \n",
      "        df_curr = df[df['year'] == year]\n",
      "        \n",
      "        year_WEO = year - 1 \n",
      "        column = 'F' + str(year_WEO) + 'ngdp_rpch'\n",
      "        y_pred_year = df_curr[column].values[0]\n",
      "        \n",
      "        predictions_weo.append(y_pred_year)\n",
      "    \n",
      "    predictions_weo = pd.Series(data = predictions_weo, index = years)\n",
      "    \n",
      "    return predictions_weo\n",
      "\n"
     ]
    }
   ],
   "source": [
    "print(inspect.getsource(get_predictions_weo))"
   ]
  },
  {
   "cell_type": "markdown",
   "metadata": {},
   "source": [
    "Here is for example the WEO for germany for the years 2010 to 2018:\n"
   ]
  },
  {
   "cell_type": "code",
   "execution_count": 5,
   "metadata": {},
   "outputs": [
    {
     "data": {
      "text/plain": [
       "2010    0.335834\n",
       "2011    2.021567\n",
       "2012    1.273123\n",
       "2013    0.852179\n",
       "2014    1.399657\n",
       "2015    1.451330\n",
       "2016    1.573023\n",
       "2017    1.425094\n",
       "2018    1.843451\n",
       "dtype: float64"
      ]
     },
     "execution_count": 5,
     "metadata": {},
     "output_type": "execute_result"
    }
   ],
   "source": [
    "get_predictions_weo(df_weo, country = 'Germany', start_forecast =  2010, end_forecast = 2018)"
   ]
  },
  {
   "cell_type": "markdown",
   "metadata": {},
   "source": [
    "The WEO is available from 1980 for the following countries:"
   ]
  },
  {
   "cell_type": "code",
   "execution_count": 6,
   "metadata": {},
   "outputs": [
    {
     "data": {
      "text/plain": [
       "array(['World', 'Advanced Economies', 'United States', 'United Kingdom',\n",
       "       'Austria', 'Belgium', 'Denmark', 'France', 'Germany', 'San Marino',\n",
       "       'Italy', 'Luxembourg', 'Netherlands', 'Norway', 'Sweden',\n",
       "       'Switzerland', 'Canada', 'Japan', 'Euro area', 'Finland', 'Greece',\n",
       "       'Iceland', 'Ireland', 'Malta', 'Portugal', 'Spain', 'Turkey',\n",
       "       'Australia', 'New Zealand', 'South Africa',\n",
       "       'Emerging Market and Developing Economies', 'Argentina', 'Bolivia',\n",
       "       'Brazil', 'Chile', 'Colombia', 'Costa Rica', 'Dominican Republic',\n",
       "       'Ecuador', 'El Salvador', 'Guatemala', 'Haiti', 'Honduras',\n",
       "       'Mexico', 'Nicaragua', 'Panama', 'Paraguay', 'Peru', 'Uruguay',\n",
       "       'Venezuela', 'Antigua and Barbuda', 'Bahamas, The', 'Aruba',\n",
       "       'Barbados', 'Dominica', 'Grenada', 'Guyana', 'Belize', 'Jamaica',\n",
       "       'Puerto Rico', 'St. Kitts and Nevis', 'St. Lucia',\n",
       "       'St. Vincent and the Grenadines', 'Suriname',\n",
       "       'Trinidad and Tobago', 'Bahrain', 'Cyprus', 'Iran', 'Iraq',\n",
       "       'Israel', 'Jordan', 'Kuwait', 'Lebanon', 'Oman', 'Qatar',\n",
       "       'Saudi Arabia', 'Syria', 'United Arab Emirates', 'Egypt', 'Yemen',\n",
       "       'West Bank and Gaza', 'Afghanistan', 'Bangladesh', 'Bhutan',\n",
       "       'Brunei Darussalam', 'Myanmar', 'Cambodia', 'Sri Lanka',\n",
       "       'Taiwan Province of China', 'Hong Kong SAR', 'India', 'Indonesia',\n",
       "       'Timor-Leste', 'Korea', 'Lao P.D.R.', 'Macao SAR', 'Malaysia',\n",
       "       'Maldives', 'Nepal', 'Pakistan', 'Palau', 'Philippines',\n",
       "       'Singapore', 'Thailand', 'Vietnam', 'Djibouti', 'Algeria',\n",
       "       'Angola', 'Botswana', 'Burundi', 'Cameroon', 'Cabo Verde',\n",
       "       'Central African Republic', 'Chad', 'Comoros',\n",
       "       'Congo, Republic of', 'Congo, Democratic Republic of the', 'Benin',\n",
       "       'Equatorial Guinea', 'Eritrea', 'Ethiopia', 'Gabon', 'Gambia, The',\n",
       "       'Ghana', 'Guinea-Bissau', 'Guinea', \"Côte d'Ivoire\", 'Kenya',\n",
       "       'Lesotho', 'Liberia', 'Libya', 'Madagascar', 'Malawi', 'Mali',\n",
       "       'Mauritania', 'Mauritius', 'Morocco', 'Mozambique', 'Niger',\n",
       "       'Nigeria', 'Zimbabwe', 'Rwanda', 'São Tomé and Príncipe',\n",
       "       'Seychelles', 'Senegal', 'Sierra Leone', 'Somalia', 'Namibia',\n",
       "       'Sudan', 'South Sudan', 'Eswatini', 'Tanzania', 'Togo', 'Tunisia',\n",
       "       'Uganda', 'Burkina Faso', 'Zambia', 'Solomon Islands', 'Fiji',\n",
       "       'Kiribati', 'Nauru', 'Vanuatu', 'Papua New Guinea', 'Samoa',\n",
       "       'Tonga', 'Marshall Islands', 'Micronesia', 'Tuvalu', 'Armenia',\n",
       "       'Azerbaijan', 'Belarus', 'Albania', 'Georgia', 'Kazakhstan',\n",
       "       'Kyrgyz Republic', 'Bulgaria', 'Moldova', 'Russia', 'Tajikistan',\n",
       "       'China', 'Turkmenistan', 'Ukraine', 'Uzbekistan', 'Czech Republic',\n",
       "       'Slovak Republic', 'Estonia', 'Latvia', 'Serbia',\n",
       "       'Montenegro, Rep. of', 'Hungary', 'Lithuania', 'Mongolia',\n",
       "       'Croatia', 'Slovenia', 'North Macedonia', 'Bosnia and Herzegovina',\n",
       "       'Poland', 'Kosovo', 'Romania'], dtype=object)"
      ]
     },
     "execution_count": 6,
     "metadata": {},
     "output_type": "execute_result"
    }
   ],
   "source": [
    "df_weo['country'].unique()"
   ]
  }
 ],
 "metadata": {
  "kernelspec": {
   "display_name": "Python 3",
   "language": "python",
   "name": "python3"
  },
  "language_info": {
   "codemirror_mode": {
    "name": "ipython",
    "version": 3
   },
   "file_extension": ".py",
   "mimetype": "text/x-python",
   "name": "python",
   "nbconvert_exporter": "python",
   "pygments_lexer": "ipython3",
   "version": "3.7.7"
  }
 },
 "nbformat": 4,
 "nbformat_minor": 4
}
